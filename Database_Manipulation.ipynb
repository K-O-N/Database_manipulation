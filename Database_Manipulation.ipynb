{
  "nbformat": 4,
  "nbformat_minor": 0,
  "metadata": {
    "colab": {
      "name": "Database_Manipulation.ipynb",
      "provenance": []
    },
    "kernelspec": {
      "name": "python3",
      "display_name": "Python 3"
    },
    "language_info": {
      "name": "python"
    }
  },
  "cells": [
    {
      "cell_type": "code",
      "metadata": {
        "id": "Amabfg7e_JWX"
      },
      "source": [
        "import sqlite3"
      ],
      "execution_count": 1,
      "outputs": []
    },
    {
      "cell_type": "code",
      "metadata": {
        "id": "TkaWkfhl_qGG"
      },
      "source": [
        "con = sqlite3.connect(\"DSdatabase.db\")"
      ],
      "execution_count": 2,
      "outputs": []
    },
    {
      "cell_type": "code",
      "metadata": {
        "id": "8sn4B4Vl_qCi"
      },
      "source": [
        "cursor = con.cursor()"
      ],
      "execution_count": 3,
      "outputs": []
    },
    {
      "cell_type": "code",
      "metadata": {
        "id": "sA04NFYC_qAW"
      },
      "source": [
        "cursor.execute(\"CREATE TABLE colleagues(id integer PRIMARY KEY, name text, salary real, department text, position text, hiredate text)\")\n",
        "con.commit()"
      ],
      "execution_count": 4,
      "outputs": []
    },
    {
      "cell_type": "code",
      "metadata": {
        "id": "1WrdcUzo_p9n"
      },
      "source": [
        "cursor.execute(\"INSERT INTO colleagues VALUES(1, 'Chinenye Vivian', 1000, 'DS Rep', 'second', '6-06-2019')\")\n",
        "con.commit()"
      ],
      "execution_count": 5,
      "outputs": []
    },
    {
      "cell_type": "code",
      "metadata": {
        "id": "5nfONTmK_p6Z"
      },
      "source": [
        "entities = (2, 'Kate O', 1200, 'DS', 'first', '20-04-2021')\n",
        "cursor.execute(\"INSERT INTO colleagues(id,name,salary,department,position,hiredate) VALUES(?,?,?,?,?,?)\",entities)\n",
        "con.commit()"
      ],
      "execution_count": 7,
      "outputs": []
    },
    {
      "cell_type": "code",
      "metadata": {
        "colab": {
          "base_uri": "https://localhost:8080/"
        },
        "id": "XXhN3ccV_p4p",
        "outputId": "f512760f-202b-47ed-9656-6e2ef77f68a7"
      },
      "source": [
        "id = int(input(\"Enter your id: \"))\n",
        "name = input(\"Enter your name: \")\n",
        "salary = float(input(\"Enter your salary: \"))\n",
        "department = input(\"Enter your department: \")\n",
        "position = input(\"Enter your position: \")\n",
        "hiredate = input(\"Enter your hiredate: \")\n",
        "entities = (id,name,salary,department,position,hiredate)\n",
        "\n",
        "cursor.execute(\"INSERT INTO colleagues(id,name,salary,department,position,hiredate) VALUES(?,?,?,?,?,?)\",entities)\n",
        "con.commit()"
      ],
      "execution_count": 8,
      "outputs": [
        {
          "name": "stdout",
          "output_type": "stream",
          "text": [
            "Enter your id: 3\n",
            "Enter your name: Emeto Winner\n",
            "Enter your salary: 1500\n",
            "Enter your department: DS Facilitator\n",
            "Enter your position: CEO\n",
            "Enter your hiredate: 11-01-2021\n"
          ]
        }
      ]
    },
    {
      "cell_type": "code",
      "metadata": {
        "colab": {
          "base_uri": "https://localhost:8080/"
        },
        "id": "NSaYRTIJ_pto",
        "outputId": "c05e474a-7521-4d3f-9afe-b22a19ad7e27"
      },
      "source": [
        "id = int(input(\"Enter your id: \"))\n",
        "name = input(\"Enter your name: \")\n",
        "salary = float(input(\"Enter your salary: \"))\n",
        "department = input(\"Enter your department: \")\n",
        "position = input(\"Enter your position: \")\n",
        "hiredate = input(\"Enter your hiredate: \")\n",
        "entities = (id,name,salary,department,position,hiredate)\n",
        "\n",
        "cursor.execute(\"INSERT INTO colleagues(id,name,salary,department,position,hiredate) VALUES(?,?,?,?,?,?)\",entities)\n",
        "con.commit()"
      ],
      "execution_count": 9,
      "outputs": [
        {
          "name": "stdout",
          "output_type": "stream",
          "text": [
            "Enter your hiredate: 04-02-2021\n"
          ]
        }
      ]
    },
    {
      "cell_type": "code",
      "metadata": {
        "id": "FjVs_PxXJP1O"
      },
      "source": [
        "cursor.execute(\"UPDATE colleagues SET hiredate = '20-04-2021' WHERE id = 4\")\n",
        "con.commit()"
      ],
      "execution_count": 11,
      "outputs": []
    },
    {
      "cell_type": "code",
      "metadata": {
        "colab": {
          "base_uri": "https://localhost:8080/"
        },
        "id": "F-sd7qGmJPnl",
        "outputId": "1f48c666-15a8-465c-e763-fd397657858c"
      },
      "source": [
        "cursor.execute(\"SELECT * FROM colleagues\")\n",
        "rows = cursor.fetchall()\n",
        "\n",
        "for row in rows:\n",
        "  print(row)\n"
      ],
      "execution_count": 12,
      "outputs": [
        {
          "output_type": "stream",
          "name": "stdout",
          "text": [
            "(1, 'Chinenye Vivian', 1000.0, 'DS Rep', 'second', '6-06-2019')\n",
            "(2, 'Kate O', 1200.0, 'DS', 'first', '20-04-2021')\n",
            "(3, 'Emeto Winner', 1500.0, 'DS Facilitator', 'CEO', '11-01-2021')\n",
            "(4, 'Lilian U', 1000.0, 'DS', 'DS student', '20-04-2021')\n"
          ]
        }
      ]
    },
    {
      "cell_type": "code",
      "metadata": {
        "id": "5q3iwDXTJPVM"
      },
      "source": [
        "cursor.execute(\"UPDATE colleagues SET position = 'third' WHERE id = 4\")\n",
        "con.commit()"
      ],
      "execution_count": 13,
      "outputs": []
    },
    {
      "cell_type": "code",
      "metadata": {
        "colab": {
          "base_uri": "https://localhost:8080/"
        },
        "id": "JwBm2wl8NcVg",
        "outputId": "19bb6d01-2180-4aa7-dd27-f9be22f905ec"
      },
      "source": [
        "cursor.execute(\"SELECT name,position FROM colleagues\")\n",
        "namep = cursor.fetchall()\n",
        "\n",
        "for name in namep:\n",
        "  print(name)"
      ],
      "execution_count": 15,
      "outputs": [
        {
          "output_type": "stream",
          "name": "stdout",
          "text": [
            "('Chinenye Vivian', 'second')\n",
            "('Kate O', 'first')\n",
            "('Emeto Winner', 'CEO')\n",
            "('Lilian U', 'third')\n"
          ]
        }
      ]
    },
    {
      "cell_type": "code",
      "metadata": {
        "colab": {
          "base_uri": "https://localhost:8080/"
        },
        "id": "7KS2JtEJNcIN",
        "outputId": "fd50dddc-1c59-4d37-e057-893047aa153b"
      },
      "source": [
        "cursor.execute(\"SELECT name,salary,position,hiredate FROM colleagues ORDER BY hiredate\")\n",
        "descriptions = cursor.fetchall()\n",
        "\n",
        "for desc in descriptions:\n",
        "  print(desc)"
      ],
      "execution_count": 16,
      "outputs": [
        {
          "output_type": "stream",
          "name": "stdout",
          "text": [
            "('Emeto Winner', 1500.0, 'CEO', '11-01-2021')\n",
            "('Kate O', 1200.0, 'first', '20-04-2021')\n",
            "('Lilian U', 1000.0, 'third', '20-04-2021')\n",
            "('Chinenye Vivian', 1000.0, 'second', '6-06-2019')\n"
          ]
        }
      ]
    },
    {
      "cell_type": "markdown",
      "metadata": {
        "id": "fKoj8W3aRNFh"
      },
      "source": [
        "## To Populate My Database Automatically"
      ]
    },
    {
      "cell_type": "code",
      "metadata": {
        "colab": {
          "base_uri": "https://localhost:8080/"
        },
        "id": "iVTQMIXdNbvZ",
        "outputId": "6da58e65-e9f0-411e-9e11-e16ba131522b"
      },
      "source": [
        "counter = True\n",
        "while counter:\n",
        "    id = int(input(\"Enter your id: \"))\n",
        "    name = input(\"Enter your name: \")\n",
        "    salary = float(input(\"Enter your salary: \"))\n",
        "    department = input(\"Enter your department: \")\n",
        "    position = input(\"Enter your position: \")\n",
        "    hiredate = input(\"Enter your hiredate: \")\n",
        "    entities = (id,name,salary,department,position,hiredate)\n",
        "    cursor.execute(\"INSERT INTO colleagues(id,name,salary,department,position,hireDate) VALUES(?,?,?,?,?,?)\",entities)\n",
        "    con.commit()\n",
        "    print('Data has been inserted!!!')\n",
        "    print('Do you want to continue?')\n",
        "    value = int(input(\"Enter 1 to continue and 0 to quit\"))\n",
        "    if value == 1:\n",
        "        pass\n",
        "    elif value == 0:\n",
        "        print('Thank you!!')\n",
        "        counter = False\n",
        "    else:\n",
        "        break"
      ],
      "execution_count": 18,
      "outputs": [
        {
          "output_type": "stream",
          "name": "stdout",
          "text": [
            "Enter your id: 9\n",
            "Enter your name: Habiba Sa\n",
            "Enter your salary: 1000\n",
            "Enter your department: DS\n",
            "Enter your position: nineth\n",
            "Enter your hiredate: 23-04-2021\n",
            "Data has been inserted!!!\n",
            "Do you want to continue?\n",
            "Enter 1 to continue and 0 to quit0\n",
            "Thank you!!\n"
          ]
        }
      ]
    },
    {
      "cell_type": "code",
      "metadata": {
        "colab": {
          "base_uri": "https://localhost:8080/"
        },
        "id": "ggwkpzZINbhv",
        "outputId": "32de3f4c-3ec0-4c65-8ae5-aa93d6bf3678"
      },
      "source": [
        "cursor.execute(\"SELECT * FROM colleagues\")\n",
        "data = cursor.fetchall()\n",
        "\n",
        "for d in data:\n",
        "  print(d)\n",
        "  "
      ],
      "execution_count": 22,
      "outputs": [
        {
          "output_type": "stream",
          "name": "stdout",
          "text": [
            "(1, 'Chinenye Vivian', 1000.0, 'DS Rep', 'second', '6-06-2019')\n",
            "(2, 'Kate O', 1200.0, 'DS', 'first', '20-04-2021')\n",
            "(3, 'Emeto Winner', 1500.0, 'DS Facilitator', 'CEO', '11-01-2021')\n",
            "(4, 'Lilian U', 1000.0, 'DS', 'third', '20-04-2021')\n",
            "(5, 'Mercy Ak', 1000.0, 'DS', 'sixth', '21-04-2021')\n",
            "(6, 'Mercy Sa', 1000.0, 'DS', 'seventh ', '21-04-2021')\n",
            "(7, 'Chege Jacinta', 1000.0, 'DS', 'eight', '22-04-2021')\n",
            "(9, 'Habiba Sa', 1000.0, 'DS', 'nineth', '23-04-2021')\n"
          ]
        }
      ]
    },
    {
      "cell_type": "code",
      "metadata": {
        "id": "FhhvyV-qNbFL"
      },
      "source": [
        "newlist = []"
      ],
      "execution_count": 23,
      "outputs": []
    },
    {
      "cell_type": "code",
      "metadata": {
        "id": "3pzp34K8hZdl"
      },
      "source": [
        "for d in data:\n",
        "    newlist.append({'id':d[0], 'name':d[1], 'salary':d[2], 'department':d[3], 'position':d[4], 'hiredate':d[5]})"
      ],
      "execution_count": 24,
      "outputs": []
    },
    {
      "cell_type": "code",
      "metadata": {
        "id": "X9VsPdFDiL3o",
        "outputId": "52f9b0af-ec0b-460c-f490-0e92727bd230",
        "colab": {
          "base_uri": "https://localhost:8080/",
          "height": 204
        }
      },
      "source": [
        "import pandas as pd\n",
        "\n",
        "\n",
        "df = pd.DataFrame(newlist)\n",
        "df.head()"
      ],
      "execution_count": 26,
      "outputs": [
        {
          "output_type": "execute_result",
          "data": {
            "text/html": [
              "<div>\n",
              "<style scoped>\n",
              "    .dataframe tbody tr th:only-of-type {\n",
              "        vertical-align: middle;\n",
              "    }\n",
              "\n",
              "    .dataframe tbody tr th {\n",
              "        vertical-align: top;\n",
              "    }\n",
              "\n",
              "    .dataframe thead th {\n",
              "        text-align: right;\n",
              "    }\n",
              "</style>\n",
              "<table border=\"1\" class=\"dataframe\">\n",
              "  <thead>\n",
              "    <tr style=\"text-align: right;\">\n",
              "      <th></th>\n",
              "      <th>id</th>\n",
              "      <th>name</th>\n",
              "      <th>salary</th>\n",
              "      <th>department</th>\n",
              "      <th>position</th>\n",
              "      <th>hiredate</th>\n",
              "    </tr>\n",
              "  </thead>\n",
              "  <tbody>\n",
              "    <tr>\n",
              "      <th>0</th>\n",
              "      <td>1</td>\n",
              "      <td>Chinenye Vivian</td>\n",
              "      <td>1000.0</td>\n",
              "      <td>DS Rep</td>\n",
              "      <td>second</td>\n",
              "      <td>6-06-2019</td>\n",
              "    </tr>\n",
              "    <tr>\n",
              "      <th>1</th>\n",
              "      <td>2</td>\n",
              "      <td>Kate O</td>\n",
              "      <td>1200.0</td>\n",
              "      <td>DS</td>\n",
              "      <td>first</td>\n",
              "      <td>20-04-2021</td>\n",
              "    </tr>\n",
              "    <tr>\n",
              "      <th>2</th>\n",
              "      <td>3</td>\n",
              "      <td>Emeto Winner</td>\n",
              "      <td>1500.0</td>\n",
              "      <td>DS Facilitator</td>\n",
              "      <td>CEO</td>\n",
              "      <td>11-01-2021</td>\n",
              "    </tr>\n",
              "    <tr>\n",
              "      <th>3</th>\n",
              "      <td>4</td>\n",
              "      <td>Lilian U</td>\n",
              "      <td>1000.0</td>\n",
              "      <td>DS</td>\n",
              "      <td>third</td>\n",
              "      <td>20-04-2021</td>\n",
              "    </tr>\n",
              "    <tr>\n",
              "      <th>4</th>\n",
              "      <td>5</td>\n",
              "      <td>Mercy Ak</td>\n",
              "      <td>1000.0</td>\n",
              "      <td>DS</td>\n",
              "      <td>sixth</td>\n",
              "      <td>21-04-2021</td>\n",
              "    </tr>\n",
              "  </tbody>\n",
              "</table>\n",
              "</div>"
            ],
            "text/plain": [
              "   id             name  salary      department position    hiredate\n",
              "0   1  Chinenye Vivian  1000.0          DS Rep   second   6-06-2019\n",
              "1   2           Kate O  1200.0              DS    first  20-04-2021\n",
              "2   3     Emeto Winner  1500.0  DS Facilitator      CEO  11-01-2021\n",
              "3   4         Lilian U  1000.0              DS    third  20-04-2021\n",
              "4   5         Mercy Ak  1000.0              DS    sixth  21-04-2021"
            ]
          },
          "metadata": {},
          "execution_count": 26
        }
      ]
    },
    {
      "cell_type": "code",
      "metadata": {
        "id": "J8qVQMtZilB3",
        "outputId": "9722b9b1-3c48-4fcf-d12b-52c5c8ea979c",
        "colab": {
          "base_uri": "https://localhost:8080/"
        }
      },
      "source": [
        "df.dtypes"
      ],
      "execution_count": 27,
      "outputs": [
        {
          "output_type": "execute_result",
          "data": {
            "text/plain": [
              "id              int64\n",
              "name           object\n",
              "salary        float64\n",
              "department     object\n",
              "position       object\n",
              "hiredate       object\n",
              "dtype: object"
            ]
          },
          "metadata": {},
          "execution_count": 27
        }
      ]
    },
    {
      "cell_type": "code",
      "metadata": {
        "id": "_G24D4f3iuVK",
        "outputId": "581c3819-2fba-4160-e7b7-6b3a1aaaa34c",
        "colab": {
          "base_uri": "https://localhost:8080/"
        }
      },
      "source": [
        "df.shape"
      ],
      "execution_count": 28,
      "outputs": [
        {
          "output_type": "execute_result",
          "data": {
            "text/plain": [
              "(8, 6)"
            ]
          },
          "metadata": {},
          "execution_count": 28
        }
      ]
    }
  ]
}